{
 "cells": [
  {
   "cell_type": "code",
   "execution_count": 1,
   "metadata": {
    "_cell_guid": "b1076dfc-b9ad-4769-8c92-a6c4dae69d19",
    "_uuid": "8f2839f25d086af736a60e9eeb907d3b93b6e0e5"
   },
   "outputs": [
    {
     "name": "stderr",
     "output_type": "stream",
     "text": [
      "The system cannot find the path specified.\n"
     ]
    },
    {
     "ename": "ModuleNotFoundError",
     "evalue": "No module named 'datatable'",
     "output_type": "error",
     "traceback": [
      "\u001b[1;31m---------------------------------------------------------------------------\u001b[0m",
      "\u001b[1;31mModuleNotFoundError\u001b[0m                       Traceback (most recent call last)",
      "\u001b[1;32m<ipython-input-1-2632597cb8e0>\u001b[0m in \u001b[0;36m<module>\u001b[1;34m\u001b[0m\n\u001b[0;32m     13\u001b[0m \u001b[1;32mfrom\u001b[0m \u001b[0mrandom\u001b[0m \u001b[1;32mimport\u001b[0m \u001b[0mchoices\u001b[0m\u001b[1;33m\u001b[0m\u001b[1;33m\u001b[0m\u001b[0m\n\u001b[0;32m     14\u001b[0m \u001b[0mget_ipython\u001b[0m\u001b[1;33m(\u001b[0m\u001b[1;33m)\u001b[0m\u001b[1;33m.\u001b[0m\u001b[0msystem\u001b[0m\u001b[1;33m(\u001b[0m\u001b[1;34m'pip install datatable > /dev/null'\u001b[0m\u001b[1;33m)\u001b[0m\u001b[1;33m\u001b[0m\u001b[1;33m\u001b[0m\u001b[0m\n\u001b[1;32m---> 15\u001b[1;33m \u001b[1;32mimport\u001b[0m \u001b[0mdatatable\u001b[0m \u001b[1;32mas\u001b[0m \u001b[0mdt\u001b[0m\u001b[1;33m\u001b[0m\u001b[1;33m\u001b[0m\u001b[0m\n\u001b[0m\u001b[0;32m     16\u001b[0m \u001b[1;32mfrom\u001b[0m \u001b[0msklearn\u001b[0m \u001b[1;32mimport\u001b[0m \u001b[0mimpute\u001b[0m\u001b[1;33m\u001b[0m\u001b[1;33m\u001b[0m\u001b[0m\n\u001b[0;32m     17\u001b[0m \u001b[1;32mimport\u001b[0m \u001b[0mgc\u001b[0m\u001b[1;33m\u001b[0m\u001b[1;33m\u001b[0m\u001b[0m\n",
      "\u001b[1;31mModuleNotFoundError\u001b[0m: No module named 'datatable'"
     ]
    }
   ],
   "source": [
    "import numpy as np # linear algebra\n",
    "import pandas as pd # data processing, CSV file I/O (e.g. pd.read_csv)\n",
    "from tensorflow.keras.layers import Input, Dense, BatchNormalization, Dropout, Concatenate, Lambda, GaussianNoise, Activation\n",
    "from tensorflow.keras.models import Model, Sequential\n",
    "from tensorflow.keras.losses import BinaryCrossentropy\n",
    "from tensorflow.keras.optimizers import Adam\n",
    "from tensorflow.keras.callbacks import EarlyStopping\n",
    "from tensorflow.keras.layers.experimental.preprocessing import Normalization\n",
    "import tensorflow as tf\n",
    "import numpy as np\n",
    "import pandas as pd\n",
    "from tqdm import tqdm\n",
    "from random import choices\n",
    "!pip install datatable > /dev/null\n",
    "import datatable as dt\n",
    "from sklearn import impute\n",
    "import gc\n",
    "\n",
    "import os\n",
    "# for dirname, _, filenames in os.walk('/kaggle/input'):\n",
    "#     for filename in filenames:\n",
    "#         print(os.path.join(dirname, filename))"
   ]
  },
  {
   "cell_type": "code",
   "execution_count": 2,
   "metadata": {
    "collapsed": true
   },
   "outputs": [
    {
     "ename": "ValueError",
     "evalue": "Please provide a TPU Name to connect to.",
     "output_type": "error",
     "traceback": [
      "\u001b[0;31m---------------------------------------------------------------------------\u001b[0m",
      "\u001b[0;31mValueError\u001b[0m                                Traceback (most recent call last)",
      "\u001b[0;32m<ipython-input-2-2b9318ecc273>\u001b[0m in \u001b[0;36m<module>\u001b[0;34m\u001b[0m\n\u001b[1;32m      1\u001b[0m \u001b[0;31m# detect and init the TPU\u001b[0m\u001b[0;34m\u001b[0m\u001b[0;34m\u001b[0m\u001b[0;34m\u001b[0m\u001b[0m\n\u001b[0;32m----> 2\u001b[0;31m \u001b[0mtpu\u001b[0m \u001b[0;34m=\u001b[0m \u001b[0mtf\u001b[0m\u001b[0;34m.\u001b[0m\u001b[0mdistribute\u001b[0m\u001b[0;34m.\u001b[0m\u001b[0mcluster_resolver\u001b[0m\u001b[0;34m.\u001b[0m\u001b[0mTPUClusterResolver\u001b[0m\u001b[0;34m(\u001b[0m\u001b[0;34m)\u001b[0m\u001b[0;34m\u001b[0m\u001b[0;34m\u001b[0m\u001b[0m\n\u001b[0m\u001b[1;32m      3\u001b[0m \u001b[0mtf\u001b[0m\u001b[0;34m.\u001b[0m\u001b[0mconfig\u001b[0m\u001b[0;34m.\u001b[0m\u001b[0mexperimental_connect_to_cluster\u001b[0m\u001b[0;34m(\u001b[0m\u001b[0mtpu\u001b[0m\u001b[0;34m)\u001b[0m\u001b[0;34m\u001b[0m\u001b[0;34m\u001b[0m\u001b[0m\n\u001b[1;32m      4\u001b[0m \u001b[0mtf\u001b[0m\u001b[0;34m.\u001b[0m\u001b[0mtpu\u001b[0m\u001b[0;34m.\u001b[0m\u001b[0mexperimental\u001b[0m\u001b[0;34m.\u001b[0m\u001b[0minitialize_tpu_system\u001b[0m\u001b[0;34m(\u001b[0m\u001b[0mtpu\u001b[0m\u001b[0;34m)\u001b[0m\u001b[0;34m\u001b[0m\u001b[0;34m\u001b[0m\u001b[0m\n\u001b[1;32m      5\u001b[0m \u001b[0;34m\u001b[0m\u001b[0m\n",
      "\u001b[0;32m/opt/conda/lib/python3.7/site-packages/tensorflow/python/distribute/cluster_resolver/tpu/tpu_cluster_resolver.py\u001b[0m in \u001b[0;36m__init__\u001b[0;34m(self, tpu, zone, project, job_name, coordinator_name, coordinator_address, credentials, service, discovery_url)\u001b[0m\n\u001b[1;32m    194\u001b[0m         \u001b[0mcredentials\u001b[0m\u001b[0;34m=\u001b[0m\u001b[0mcredentials\u001b[0m\u001b[0;34m,\u001b[0m\u001b[0;34m\u001b[0m\u001b[0;34m\u001b[0m\u001b[0m\n\u001b[1;32m    195\u001b[0m         \u001b[0mservice\u001b[0m\u001b[0;34m=\u001b[0m\u001b[0mservice\u001b[0m\u001b[0;34m,\u001b[0m\u001b[0;34m\u001b[0m\u001b[0;34m\u001b[0m\u001b[0m\n\u001b[0;32m--> 196\u001b[0;31m         discovery_url=discovery_url)\n\u001b[0m\u001b[1;32m    197\u001b[0m \u001b[0;34m\u001b[0m\u001b[0m\n\u001b[1;32m    198\u001b[0m     \u001b[0mself\u001b[0m\u001b[0;34m.\u001b[0m\u001b[0m_tpu\u001b[0m \u001b[0;34m=\u001b[0m \u001b[0mself\u001b[0m\u001b[0;34m.\u001b[0m\u001b[0m_cloud_tpu_client\u001b[0m\u001b[0;34m.\u001b[0m\u001b[0mname\u001b[0m\u001b[0;34m(\u001b[0m\u001b[0;34m)\u001b[0m\u001b[0;34m\u001b[0m\u001b[0;34m\u001b[0m\u001b[0m\n",
      "\u001b[0;32m/opt/conda/lib/python3.7/site-packages/cloud_tpu_client/client.py\u001b[0m in \u001b[0;36m__init__\u001b[0;34m(self, tpu, zone, project, credentials, service, discovery_url)\u001b[0m\n\u001b[1;32m    137\u001b[0m \u001b[0;34m\u001b[0m\u001b[0m\n\u001b[1;32m    138\u001b[0m     \u001b[0;32mif\u001b[0m \u001b[0mtpu\u001b[0m \u001b[0;32mis\u001b[0m \u001b[0;32mNone\u001b[0m\u001b[0;34m:\u001b[0m\u001b[0;34m\u001b[0m\u001b[0;34m\u001b[0m\u001b[0m\n\u001b[0;32m--> 139\u001b[0;31m       \u001b[0;32mraise\u001b[0m \u001b[0mValueError\u001b[0m\u001b[0;34m(\u001b[0m\u001b[0;34m'Please provide a TPU Name to connect to.'\u001b[0m\u001b[0;34m)\u001b[0m\u001b[0;34m\u001b[0m\u001b[0;34m\u001b[0m\u001b[0m\n\u001b[0m\u001b[1;32m    140\u001b[0m \u001b[0;34m\u001b[0m\u001b[0m\n\u001b[1;32m    141\u001b[0m     \u001b[0mself\u001b[0m\u001b[0;34m.\u001b[0m\u001b[0m_tpu\u001b[0m \u001b[0;34m=\u001b[0m \u001b[0m_as_text\u001b[0m\u001b[0;34m(\u001b[0m\u001b[0mtpu\u001b[0m\u001b[0;34m)\u001b[0m\u001b[0;34m\u001b[0m\u001b[0;34m\u001b[0m\u001b[0m\n",
      "\u001b[0;31mValueError\u001b[0m: Please provide a TPU Name to connect to."
     ]
    }
   ],
   "source": [
    "# # detect and init the TPU\n",
    "# tpu = tf.distribute.cluster_resolver.TPUClusterResolver()\n",
    "# tf.config.experimental_connect_to_cluster(tpu)\n",
    "# tf.tpu.experimental.initialize_tpu_system(tpu)\n",
    "\n",
    "# # instantiate a distribution strategy\n",
    "# tpu_strategy = tf.distribute.experimental.TPUStrategy(tpu)"
   ]
  },
  {
   "cell_type": "code",
   "execution_count": 5,
   "metadata": {},
   "outputs": [],
   "source": [
    "SEED = 42\n",
    "\n",
    "tf.random.set_seed(SEED)\n",
    "np.random.seed(SEED)\n",
    "\n",
    "# df = pd.read_csv(\"../input/jane-street-market-prediction/train.csv\")\n",
    "df = dt.fread('../input/jane-street-market-prediction/train.csv')\n",
    "df = df.to_pandas()"
   ]
  },
  {
   "cell_type": "code",
   "execution_count": 6,
   "metadata": {},
   "outputs": [
    {
     "name": "stdout",
     "output_type": "stream",
     "text": [
      "Done loading data. df shape is (2390491, 133)\n"
     ]
    },
    {
     "data": {
      "text/html": [
       "<div>\n",
       "<style scoped>\n",
       "    .dataframe tbody tr th:only-of-type {\n",
       "        vertical-align: middle;\n",
       "    }\n",
       "\n",
       "    .dataframe tbody tr th {\n",
       "        vertical-align: top;\n",
       "    }\n",
       "\n",
       "    .dataframe thead th {\n",
       "        text-align: right;\n",
       "    }\n",
       "</style>\n",
       "<table border=\"1\" class=\"dataframe\">\n",
       "  <thead>\n",
       "    <tr style=\"text-align: right;\">\n",
       "      <th></th>\n",
       "      <th>date</th>\n",
       "      <th>weight</th>\n",
       "      <th>resp</th>\n",
       "      <th>feature_0</th>\n",
       "      <th>feature_1</th>\n",
       "      <th>feature_2</th>\n",
       "      <th>feature_3</th>\n",
       "      <th>feature_4</th>\n",
       "      <th>feature_5</th>\n",
       "      <th>feature_6</th>\n",
       "      <th>...</th>\n",
       "      <th>feature_120</th>\n",
       "      <th>feature_121</th>\n",
       "      <th>feature_122</th>\n",
       "      <th>feature_123</th>\n",
       "      <th>feature_124</th>\n",
       "      <th>feature_125</th>\n",
       "      <th>feature_126</th>\n",
       "      <th>feature_127</th>\n",
       "      <th>feature_128</th>\n",
       "      <th>feature_129</th>\n",
       "    </tr>\n",
       "    <tr>\n",
       "      <th>ts_id</th>\n",
       "      <th></th>\n",
       "      <th></th>\n",
       "      <th></th>\n",
       "      <th></th>\n",
       "      <th></th>\n",
       "      <th></th>\n",
       "      <th></th>\n",
       "      <th></th>\n",
       "      <th></th>\n",
       "      <th></th>\n",
       "      <th></th>\n",
       "      <th></th>\n",
       "      <th></th>\n",
       "      <th></th>\n",
       "      <th></th>\n",
       "      <th></th>\n",
       "      <th></th>\n",
       "      <th></th>\n",
       "      <th></th>\n",
       "      <th></th>\n",
       "      <th></th>\n",
       "    </tr>\n",
       "  </thead>\n",
       "  <tbody>\n",
       "    <tr>\n",
       "      <th>0</th>\n",
       "      <td>0</td>\n",
       "      <td>0.000000</td>\n",
       "      <td>0.006270</td>\n",
       "      <td>1</td>\n",
       "      <td>-1.872746</td>\n",
       "      <td>-2.191242</td>\n",
       "      <td>-0.474163</td>\n",
       "      <td>-0.323046</td>\n",
       "      <td>0.014688</td>\n",
       "      <td>-0.002484</td>\n",
       "      <td>...</td>\n",
       "      <td>NaN</td>\n",
       "      <td>NaN</td>\n",
       "      <td>1.168391</td>\n",
       "      <td>8.313583</td>\n",
       "      <td>1.782433</td>\n",
       "      <td>14.018213</td>\n",
       "      <td>2.653056</td>\n",
       "      <td>12.600292</td>\n",
       "      <td>2.301488</td>\n",
       "      <td>11.445807</td>\n",
       "    </tr>\n",
       "    <tr>\n",
       "      <th>1</th>\n",
       "      <td>0</td>\n",
       "      <td>16.673515</td>\n",
       "      <td>-0.009792</td>\n",
       "      <td>-1</td>\n",
       "      <td>-1.349537</td>\n",
       "      <td>-1.704709</td>\n",
       "      <td>0.068058</td>\n",
       "      <td>0.028432</td>\n",
       "      <td>0.193794</td>\n",
       "      <td>0.138212</td>\n",
       "      <td>...</td>\n",
       "      <td>NaN</td>\n",
       "      <td>NaN</td>\n",
       "      <td>-1.178850</td>\n",
       "      <td>1.777472</td>\n",
       "      <td>-0.915458</td>\n",
       "      <td>2.831612</td>\n",
       "      <td>-1.417010</td>\n",
       "      <td>2.297459</td>\n",
       "      <td>-1.304614</td>\n",
       "      <td>1.898684</td>\n",
       "    </tr>\n",
       "    <tr>\n",
       "      <th>2</th>\n",
       "      <td>0</td>\n",
       "      <td>0.000000</td>\n",
       "      <td>0.023970</td>\n",
       "      <td>-1</td>\n",
       "      <td>0.812780</td>\n",
       "      <td>-0.256156</td>\n",
       "      <td>0.806463</td>\n",
       "      <td>0.400221</td>\n",
       "      <td>-0.614188</td>\n",
       "      <td>-0.354800</td>\n",
       "      <td>...</td>\n",
       "      <td>NaN</td>\n",
       "      <td>NaN</td>\n",
       "      <td>6.115747</td>\n",
       "      <td>9.667908</td>\n",
       "      <td>5.542871</td>\n",
       "      <td>11.671595</td>\n",
       "      <td>7.281757</td>\n",
       "      <td>10.060014</td>\n",
       "      <td>6.638248</td>\n",
       "      <td>9.427299</td>\n",
       "    </tr>\n",
       "    <tr>\n",
       "      <th>3</th>\n",
       "      <td>0</td>\n",
       "      <td>0.000000</td>\n",
       "      <td>-0.003200</td>\n",
       "      <td>-1</td>\n",
       "      <td>1.174378</td>\n",
       "      <td>0.344640</td>\n",
       "      <td>0.066872</td>\n",
       "      <td>0.009357</td>\n",
       "      <td>-1.006373</td>\n",
       "      <td>-0.676458</td>\n",
       "      <td>...</td>\n",
       "      <td>NaN</td>\n",
       "      <td>NaN</td>\n",
       "      <td>2.838853</td>\n",
       "      <td>0.499251</td>\n",
       "      <td>3.033732</td>\n",
       "      <td>1.513488</td>\n",
       "      <td>4.397532</td>\n",
       "      <td>1.266037</td>\n",
       "      <td>3.856384</td>\n",
       "      <td>1.013469</td>\n",
       "    </tr>\n",
       "    <tr>\n",
       "      <th>4</th>\n",
       "      <td>0</td>\n",
       "      <td>0.138531</td>\n",
       "      <td>-0.002604</td>\n",
       "      <td>1</td>\n",
       "      <td>-3.172026</td>\n",
       "      <td>-3.093182</td>\n",
       "      <td>-0.161518</td>\n",
       "      <td>-0.128149</td>\n",
       "      <td>-0.195006</td>\n",
       "      <td>-0.143780</td>\n",
       "      <td>...</td>\n",
       "      <td>NaN</td>\n",
       "      <td>NaN</td>\n",
       "      <td>0.344850</td>\n",
       "      <td>4.101145</td>\n",
       "      <td>0.614252</td>\n",
       "      <td>6.623456</td>\n",
       "      <td>0.800129</td>\n",
       "      <td>5.233243</td>\n",
       "      <td>0.362636</td>\n",
       "      <td>3.926633</td>\n",
       "    </tr>\n",
       "  </tbody>\n",
       "</table>\n",
       "<p>5 rows × 133 columns</p>\n",
       "</div>"
      ],
      "text/plain": [
       "       date     weight      resp  feature_0  feature_1  feature_2  feature_3  \\\n",
       "ts_id                                                                          \n",
       "0         0   0.000000  0.006270          1  -1.872746  -2.191242  -0.474163   \n",
       "1         0  16.673515 -0.009792         -1  -1.349537  -1.704709   0.068058   \n",
       "2         0   0.000000  0.023970         -1   0.812780  -0.256156   0.806463   \n",
       "3         0   0.000000 -0.003200         -1   1.174378   0.344640   0.066872   \n",
       "4         0   0.138531 -0.002604          1  -3.172026  -3.093182  -0.161518   \n",
       "\n",
       "       feature_4  feature_5  feature_6  ...  feature_120  feature_121  \\\n",
       "ts_id                                   ...                             \n",
       "0      -0.323046   0.014688  -0.002484  ...          NaN          NaN   \n",
       "1       0.028432   0.193794   0.138212  ...          NaN          NaN   \n",
       "2       0.400221  -0.614188  -0.354800  ...          NaN          NaN   \n",
       "3       0.009357  -1.006373  -0.676458  ...          NaN          NaN   \n",
       "4      -0.128149  -0.195006  -0.143780  ...          NaN          NaN   \n",
       "\n",
       "       feature_122  feature_123  feature_124  feature_125  feature_126  \\\n",
       "ts_id                                                                    \n",
       "0         1.168391     8.313583     1.782433    14.018213     2.653056   \n",
       "1        -1.178850     1.777472    -0.915458     2.831612    -1.417010   \n",
       "2         6.115747     9.667908     5.542871    11.671595     7.281757   \n",
       "3         2.838853     0.499251     3.033732     1.513488     4.397532   \n",
       "4         0.344850     4.101145     0.614252     6.623456     0.800129   \n",
       "\n",
       "       feature_127  feature_128  feature_129  \n",
       "ts_id                                         \n",
       "0        12.600292     2.301488    11.445807  \n",
       "1         2.297459    -1.304614     1.898684  \n",
       "2        10.060014     6.638248     9.427299  \n",
       "3         1.266037     3.856384     1.013469  \n",
       "4         5.233243     0.362636     3.926633  \n",
       "\n",
       "[5 rows x 133 columns]"
      ]
     },
     "execution_count": 6,
     "metadata": {},
     "output_type": "execute_result"
    }
   ],
   "source": [
    "df = df.set_index('ts_id', drop=True)\n",
    "df.drop(columns=[f\"resp_{i}\" for i in range(1, 5)], inplace=True)\n",
    "print(f'Done loading data. df shape is {df.shape}')\n",
    "df.head()"
   ]
  },
  {
   "cell_type": "code",
   "execution_count": 7,
   "metadata": {},
   "outputs": [
    {
     "name": "stderr",
     "output_type": "stream",
     "text": [
      "/opt/conda/lib/python3.7/site-packages/pandas/core/frame.py:4174: SettingWithCopyWarning: \n",
      "A value is trying to be set on a copy of a slice from a DataFrame\n",
      "\n",
      "See the caveats in the documentation: https://pandas.pydata.org/pandas-docs/stable/user_guide/indexing.html#returning-a-view-versus-a-copy\n",
      "  errors=errors,\n"
     ]
    },
    {
     "data": {
      "text/plain": [
       "52"
      ]
     },
     "execution_count": 7,
     "metadata": {},
     "output_type": "execute_result"
    }
   ],
   "source": [
    "TARGET = 'resp'\n",
    "FEATURES = [f\"feature_{i}\" for i in range(1, 130)]\n",
    "train_pos, train_neg = df.loc[df.feature_0 > 0], df.loc[df.feature_0 < 0]\n",
    "train_pos.drop(columns=[TARGET, 'feature_0'], inplace=True)\n",
    "train_neg.drop(columns=[TARGET, 'feature_0'], inplace=True)\n",
    "gc.collect()"
   ]
  },
  {
   "cell_type": "markdown",
   "metadata": {},
   "source": [
    "### Null Values 🈳"
   ]
  },
  {
   "cell_type": "code",
   "execution_count": null,
   "metadata": {},
   "outputs": [],
   "source": [
    "#df.fillna(df.mean(),inplace=True) \n",
    "# Instead of imputing with median, let's try K-Nearest Neighbors Imputing\n",
    "# with tpu_strategy.scope():\n",
    "#     knn_imputer = impute.KNNImputer(n_neighbors=2)\n",
    "# df = knn_imputer.fit_transform(df)"
   ]
  },
  {
   "cell_type": "code",
   "execution_count": 8,
   "metadata": {},
   "outputs": [],
   "source": [
    "nan_neg = pd.read_csv(\"../input/janestreetimputeddata/nan_neg.csv\", header=None, sep=' ').values.astype(int)\n",
    "nan_pos = pd.read_csv(\"../input/janestreetimputeddata/nan_pos.csv\", header=None, sep=' ').values.astype(int)"
   ]
  },
  {
   "cell_type": "code",
   "execution_count": 9,
   "metadata": {},
   "outputs": [
    {
     "data": {
      "text/plain": [
       "20"
      ]
     },
     "execution_count": 9,
     "metadata": {},
     "output_type": "execute_result"
    }
   ],
   "source": [
    "gc.collect()"
   ]
  },
  {
   "cell_type": "code",
   "execution_count": 10,
   "metadata": {},
   "outputs": [
    {
     "data": {
      "text/plain": [
       "20"
      ]
     },
     "execution_count": 10,
     "metadata": {},
     "output_type": "execute_result"
    }
   ],
   "source": [
    "# Split into X and y\n",
    "from copy import deepcopy as dc\n",
    "X_pos = dc(train_pos[FEATURES].values)\n",
    "X_neg = dc(train_neg[FEATURES].values)\n",
    "del train_pos, train_neg\n",
    "gc.collect()"
   ]
  },
  {
   "cell_type": "code",
   "execution_count": 11,
   "metadata": {},
   "outputs": [],
   "source": [
    "file = 'knn_5'\n",
    "path = \"../input/janestreetimputeddata/\"\n",
    "X_pos[nan_pos[0], nan_pos[1]] = pd.read_csv(path+f\"positive_{file}.csv\", \n",
    "                                            header=None, sep=' ').values.flatten()\n",
    "X_neg[nan_neg[0], nan_neg[1]] = pd.read_csv(path+f\"negative_{file}.csv\",                                         \n",
    "                                            header=None, sep=' ').values.flatten()"
   ]
  },
  {
   "cell_type": "code",
   "execution_count": 12,
   "metadata": {},
   "outputs": [
    {
     "name": "stdout",
     "output_type": "stream",
     "text": [
      "df.shape: (2390491, 133)\n",
      "<class 'numpy.ndarray'>\n",
      "(1183486, 129)\n"
     ]
    }
   ],
   "source": [
    "print(\"df.shape: \"+ str(df.shape))\n",
    "print(type(X_pos))\n",
    "print(X_neg.shape)"
   ]
  },
  {
   "cell_type": "code",
   "execution_count": 13,
   "metadata": {},
   "outputs": [
    {
     "name": "stdout",
     "output_type": "stream",
     "text": [
      "(2390491, 129)\n"
     ]
    }
   ],
   "source": [
    "df = np.concatenate((X_pos, X_neg), axis=0)\n",
    "print(df.shape)\n"
   ]
  },
  {
   "cell_type": "code",
   "execution_count": 14,
   "metadata": {},
   "outputs": [
    {
     "data": {
      "text/plain": [
       "80"
      ]
     },
     "execution_count": 14,
     "metadata": {},
     "output_type": "execute_result"
    }
   ],
   "source": [
    "del X_pos, X_neg, nan_neg, nan_pos\n",
    "gc.collect()"
   ]
  },
  {
   "cell_type": "code",
   "execution_count": 15,
   "metadata": {},
   "outputs": [],
   "source": [
    "df = pd.DataFrame(df, columns = FEATURES)"
   ]
  },
  {
   "cell_type": "code",
   "execution_count": 16,
   "metadata": {},
   "outputs": [
    {
     "data": {
      "text/html": [
       "<div>\n",
       "<style scoped>\n",
       "    .dataframe tbody tr th:only-of-type {\n",
       "        vertical-align: middle;\n",
       "    }\n",
       "\n",
       "    .dataframe tbody tr th {\n",
       "        vertical-align: top;\n",
       "    }\n",
       "\n",
       "    .dataframe thead th {\n",
       "        text-align: right;\n",
       "    }\n",
       "</style>\n",
       "<table border=\"1\" class=\"dataframe\">\n",
       "  <thead>\n",
       "    <tr style=\"text-align: right;\">\n",
       "      <th></th>\n",
       "      <th>feature_1</th>\n",
       "      <th>feature_2</th>\n",
       "      <th>feature_3</th>\n",
       "      <th>feature_4</th>\n",
       "      <th>feature_5</th>\n",
       "      <th>feature_6</th>\n",
       "      <th>feature_7</th>\n",
       "      <th>feature_8</th>\n",
       "      <th>feature_9</th>\n",
       "      <th>feature_10</th>\n",
       "      <th>...</th>\n",
       "      <th>feature_120</th>\n",
       "      <th>feature_121</th>\n",
       "      <th>feature_122</th>\n",
       "      <th>feature_123</th>\n",
       "      <th>feature_124</th>\n",
       "      <th>feature_125</th>\n",
       "      <th>feature_126</th>\n",
       "      <th>feature_127</th>\n",
       "      <th>feature_128</th>\n",
       "      <th>feature_129</th>\n",
       "    </tr>\n",
       "  </thead>\n",
       "  <tbody>\n",
       "    <tr>\n",
       "      <th>0</th>\n",
       "      <td>-1.872746</td>\n",
       "      <td>-2.191242</td>\n",
       "      <td>-0.474163</td>\n",
       "      <td>-0.323046</td>\n",
       "      <td>0.014688</td>\n",
       "      <td>-0.002484</td>\n",
       "      <td>-0.541212</td>\n",
       "      <td>-0.539259</td>\n",
       "      <td>-0.989982</td>\n",
       "      <td>-1.055090</td>\n",
       "      <td>...</td>\n",
       "      <td>0.603878</td>\n",
       "      <td>6.086305</td>\n",
       "      <td>1.168391</td>\n",
       "      <td>8.313583</td>\n",
       "      <td>1.782433</td>\n",
       "      <td>14.018213</td>\n",
       "      <td>2.653056</td>\n",
       "      <td>12.600292</td>\n",
       "      <td>2.301488</td>\n",
       "      <td>11.445807</td>\n",
       "    </tr>\n",
       "    <tr>\n",
       "      <th>1</th>\n",
       "      <td>-3.172026</td>\n",
       "      <td>-3.093182</td>\n",
       "      <td>-0.161518</td>\n",
       "      <td>-0.128149</td>\n",
       "      <td>-0.195006</td>\n",
       "      <td>-0.143780</td>\n",
       "      <td>0.326871</td>\n",
       "      <td>0.081905</td>\n",
       "      <td>2.683018</td>\n",
       "      <td>1.450991</td>\n",
       "      <td>...</td>\n",
       "      <td>0.745019</td>\n",
       "      <td>5.354213</td>\n",
       "      <td>0.344850</td>\n",
       "      <td>4.101145</td>\n",
       "      <td>0.614252</td>\n",
       "      <td>6.623456</td>\n",
       "      <td>0.800129</td>\n",
       "      <td>5.233243</td>\n",
       "      <td>0.362636</td>\n",
       "      <td>3.926633</td>\n",
       "    </tr>\n",
       "    <tr>\n",
       "      <th>2</th>\n",
       "      <td>-3.172026</td>\n",
       "      <td>-3.093182</td>\n",
       "      <td>-0.363836</td>\n",
       "      <td>-0.291496</td>\n",
       "      <td>0.128422</td>\n",
       "      <td>0.096168</td>\n",
       "      <td>-1.290501</td>\n",
       "      <td>-1.173106</td>\n",
       "      <td>-3.727364</td>\n",
       "      <td>-2.451716</td>\n",
       "      <td>...</td>\n",
       "      <td>1.120067</td>\n",
       "      <td>4.167835</td>\n",
       "      <td>1.537913</td>\n",
       "      <td>4.785838</td>\n",
       "      <td>1.637435</td>\n",
       "      <td>6.968002</td>\n",
       "      <td>2.354338</td>\n",
       "      <td>5.825499</td>\n",
       "      <td>1.778029</td>\n",
       "      <td>4.740577</td>\n",
       "    </tr>\n",
       "    <tr>\n",
       "      <th>3</th>\n",
       "      <td>2.744408</td>\n",
       "      <td>1.412127</td>\n",
       "      <td>-0.250801</td>\n",
       "      <td>-0.161357</td>\n",
       "      <td>0.014279</td>\n",
       "      <td>-0.008666</td>\n",
       "      <td>-1.418110</td>\n",
       "      <td>-1.241481</td>\n",
       "      <td>0.711444</td>\n",
       "      <td>-0.278608</td>\n",
       "      <td>...</td>\n",
       "      <td>1.430190</td>\n",
       "      <td>3.332330</td>\n",
       "      <td>1.796860</td>\n",
       "      <td>3.177064</td>\n",
       "      <td>0.999252</td>\n",
       "      <td>2.906432</td>\n",
       "      <td>1.589816</td>\n",
       "      <td>2.435999</td>\n",
       "      <td>1.472419</td>\n",
       "      <td>2.245991</td>\n",
       "    </tr>\n",
       "    <tr>\n",
       "      <th>4</th>\n",
       "      <td>-3.172026</td>\n",
       "      <td>-3.093182</td>\n",
       "      <td>0.151195</td>\n",
       "      <td>0.045958</td>\n",
       "      <td>0.770927</td>\n",
       "      <td>0.434973</td>\n",
       "      <td>-0.234912</td>\n",
       "      <td>-0.327942</td>\n",
       "      <td>-2.349983</td>\n",
       "      <td>-1.614583</td>\n",
       "      <td>...</td>\n",
       "      <td>1.581096</td>\n",
       "      <td>6.305170</td>\n",
       "      <td>2.324290</td>\n",
       "      <td>4.881133</td>\n",
       "      <td>2.115830</td>\n",
       "      <td>6.337250</td>\n",
       "      <td>3.059392</td>\n",
       "      <td>5.350729</td>\n",
       "      <td>2.755876</td>\n",
       "      <td>4.968388</td>\n",
       "    </tr>\n",
       "  </tbody>\n",
       "</table>\n",
       "<p>5 rows × 129 columns</p>\n",
       "</div>"
      ],
      "text/plain": [
       "   feature_1  feature_2  feature_3  feature_4  feature_5  feature_6  \\\n",
       "0  -1.872746  -2.191242  -0.474163  -0.323046   0.014688  -0.002484   \n",
       "1  -3.172026  -3.093182  -0.161518  -0.128149  -0.195006  -0.143780   \n",
       "2  -3.172026  -3.093182  -0.363836  -0.291496   0.128422   0.096168   \n",
       "3   2.744408   1.412127  -0.250801  -0.161357   0.014279  -0.008666   \n",
       "4  -3.172026  -3.093182   0.151195   0.045958   0.770927   0.434973   \n",
       "\n",
       "   feature_7  feature_8  feature_9  feature_10  ...  feature_120  feature_121  \\\n",
       "0  -0.541212  -0.539259  -0.989982   -1.055090  ...     0.603878     6.086305   \n",
       "1   0.326871   0.081905   2.683018    1.450991  ...     0.745019     5.354213   \n",
       "2  -1.290501  -1.173106  -3.727364   -2.451716  ...     1.120067     4.167835   \n",
       "3  -1.418110  -1.241481   0.711444   -0.278608  ...     1.430190     3.332330   \n",
       "4  -0.234912  -0.327942  -2.349983   -1.614583  ...     1.581096     6.305170   \n",
       "\n",
       "   feature_122  feature_123  feature_124  feature_125  feature_126  \\\n",
       "0     1.168391     8.313583     1.782433    14.018213     2.653056   \n",
       "1     0.344850     4.101145     0.614252     6.623456     0.800129   \n",
       "2     1.537913     4.785838     1.637435     6.968002     2.354338   \n",
       "3     1.796860     3.177064     0.999252     2.906432     1.589816   \n",
       "4     2.324290     4.881133     2.115830     6.337250     3.059392   \n",
       "\n",
       "   feature_127  feature_128  feature_129  \n",
       "0    12.600292     2.301488    11.445807  \n",
       "1     5.233243     0.362636     3.926633  \n",
       "2     5.825499     1.778029     4.740577  \n",
       "3     2.435999     1.472419     2.245991  \n",
       "4     5.350729     2.755876     4.968388  \n",
       "\n",
       "[5 rows x 129 columns]"
      ]
     },
     "execution_count": 16,
     "metadata": {},
     "output_type": "execute_result"
    }
   ],
   "source": [
    "df.head(5)"
   ]
  },
  {
   "cell_type": "code",
   "execution_count": 17,
   "metadata": {},
   "outputs": [],
   "source": [
    "df.to_csv('imputed_df.csv', index=False)"
   ]
  },
  {
   "cell_type": "code",
   "execution_count": 18,
   "metadata": {},
   "outputs": [
    {
     "data": {
      "text/plain": [
       "0"
      ]
     },
     "execution_count": 18,
     "metadata": {},
     "output_type": "execute_result"
    }
   ],
   "source": [
    "# df = pd.read_csv(\"../input/jane-street-market-prediction/train.csv\")\n",
    "train = dt.fread('../input/jane-street-market-prediction/train.csv')\n",
    "train = train.to_pandas()\n",
    "gc.collect()"
   ]
  },
  {
   "cell_type": "code",
   "execution_count": 20,
   "metadata": {},
   "outputs": [],
   "source": [
    "upper = train[train['feature_0'] == 1]"
   ]
  },
  {
   "cell_type": "code",
   "execution_count": 21,
   "metadata": {},
   "outputs": [],
   "source": [
    "lower = train[train['feature_0'] == -1]"
   ]
  },
  {
   "cell_type": "code",
   "execution_count": 24,
   "metadata": {},
   "outputs": [],
   "source": [
    "train = pd.concat((upper, lower), axis = 0)\n",
    "del upper, lower\n",
    "gc.collect()\n",
    "df.to_csv('train.csv', index=False)"
   ]
  },
  {
   "cell_type": "code",
   "execution_count": null,
   "metadata": {},
   "outputs": [],
   "source": [
    "df = dt.fread('./imputed_df.csv')\n",
    "df = df.to_pandas()"
   ]
  },
  {
   "cell_type": "code",
   "execution_count": null,
   "metadata": {},
   "outputs": [],
   "source": [
    "df = pd.concat((train, df), axis = 1)\n"
   ]
  },
  {
   "cell_type": "code",
   "execution_count": 22,
   "metadata": {},
   "outputs": [
    {
     "data": {
      "text/plain": [
       "78"
      ]
     },
     "execution_count": 22,
     "metadata": {},
     "output_type": "execute_result"
    }
   ],
   "source": [
    "del train\n",
    "gc.collect()"
   ]
  },
  {
   "cell_type": "code",
   "execution_count": null,
   "metadata": {},
   "outputs": [],
   "source": [
    "# 2, 10 , 6\n",
    "#with tpu_strategy.scope():\n",
    "#df = train.merge(df, how=\"left\", on=['feature_2','feature_10','feature_6'])\n",
    "#df.head(5)"
   ]
  },
  {
   "cell_type": "code",
   "execution_count": null,
   "metadata": {},
   "outputs": [],
   "source": [
    "#df.shape"
   ]
  },
  {
   "cell_type": "code",
   "execution_count": null,
   "metadata": {},
   "outputs": [],
   "source": [
    "# df = df.query('date > 85').reset_index(drop = True) \n",
    "# df = df[df['weight'] != 0]"
   ]
  },
  {
   "cell_type": "code",
   "execution_count": null,
   "metadata": {},
   "outputs": [],
   "source": [
    "# from tsfresh.feature_extraction import feature_calculators as fc\n",
    "# df['count_above_mean'] = fc.count_above_mean(df.to_numpy())\n",
    "# df['mean_abs_change'] = fc.mean_abs_change(df.to_numpy())\n",
    "# df['abs_energy'] = fc.abs_energy(df.to_numpy())"
   ]
  },
  {
   "cell_type": "code",
   "execution_count": null,
   "metadata": {},
   "outputs": [],
   "source": [
    "# df['action'] = ((df['resp'].values) > 0).astype(int)\n",
    "\n",
    "\n",
    "# features = [c for c in df.columns if \"feature\" in c]\n",
    "\n",
    "# f_mean = np.mean(df[features[1:]].values,axis=0)\n",
    "\n",
    "# resp_cols = ['resp_1', 'resp_2', 'resp_3', 'resp', 'resp_4']\n",
    "\n",
    "# X_train = df.loc[:, train.columns.str.contains('feature')]\n",
    "\n",
    "# y_train = np.stack([(train[c] > 0).astype('int') for c in resp_cols]).T"
   ]
  },
  {
   "cell_type": "code",
   "execution_count": null,
   "metadata": {},
   "outputs": [],
   "source": [
    "# test = dt.fread('../input/jane-street-market-prediction/example_test.csv')\n",
    "# test = test.to_pandas()"
   ]
  },
  {
   "cell_type": "code",
   "execution_count": null,
   "metadata": {},
   "outputs": [],
   "source": [
    "# def create_mlp(\n",
    "#     num_columns, num_labels, hidden_units, dropout_rates, label_smoothing, learning_rate\n",
    "# ):\n",
    "\n",
    "#     inp = tf.keras.layers.Input(shape=(num_columns,))\n",
    "#     x = tf.keras.layers.BatchNormalization()(inp)\n",
    "#     x = tf.keras.layers.Dropout(dropout_rates[0])(x)\n",
    "#     for i in range(len(hidden_units)):\n",
    "#         x = tf.keras.layers.Dense(hidden_units[i])(x)\n",
    "#         x = tf.keras.layers.BatchNormalization()(x)\n",
    "#         x = tf.keras.layers.Activation(tf.keras.activations.swish)(x)\n",
    "#         x = tf.keras.layers.Dropout(dropout_rates[i + 1])(x)\n",
    "\n",
    "#     x = tf.keras.layers.Dense(num_labels)(x)\n",
    "#     out = tf.keras.layers.Activation(\"sigmoid\")(x)\n",
    "\n",
    "#     model = tf.keras.models.Model(inputs=inp, outputs=out)\n",
    "#     model.compile(\n",
    "#         optimizer=tf.keras.optimizers.Adam(learning_rate=learning_rate),\n",
    "#         loss=tf.keras.losses.BinaryCrossentropy(label_smoothing=label_smoothing),\n",
    "#         metrics=tf.keras.metrics.AUC(name=\"AUC\"),\n",
    "#     )\n",
    "\n",
    "#     return model"
   ]
  },
  {
   "cell_type": "code",
   "execution_count": null,
   "metadata": {},
   "outputs": [],
   "source": [
    "# batch_size = 5000\n",
    "# hidden_units = [145, 145, 145]\n",
    "# dropout_rates = [0.2, 0.2, 0.2, 0.2]\n",
    "# label_smoothing = 1e-2\n",
    "# learning_rate = 1e-3\n",
    "\n",
    "# with tpu_strategy.scope():\n",
    "#     clf = create_mlp(\n",
    "#         len(features), 5, hidden_units, dropout_rates, label_smoothing, learning_rate\n",
    "#         )\n",
    "\n",
    "#     clf.fit(X_train, y_train, epochs=200, batch_size=5000)\n",
    "\n",
    "\n",
    "# models = []\n",
    "\n",
    "# models.append(clf)"
   ]
  },
  {
   "cell_type": "code",
   "execution_count": null,
   "metadata": {},
   "outputs": [],
   "source": [
    "# th = 0.5\n",
    "\n",
    "\n",
    "# f = np.median\n",
    "# models = models[-3:]"
   ]
  },
  {
   "cell_type": "code",
   "execution_count": null,
   "metadata": {},
   "outputs": [],
   "source": [
    "\n",
    "# import janestreet\n",
    "# env = janestreet.make_env()\n",
    "# for (test_df, pred_df) in tqdm(env.iter_test()):\n",
    "#     if test_df['weight'].item() > 0:\n",
    "#         x_tt = test_df.loc[:, features].values\n",
    "#         if np.isnan(x_tt[:, 1:].sum()):\n",
    "#             x_tt[:, 1:] = np.nan_to_num(x_tt[:, 1:]) + np.isnan(x_tt[:, 1:]) * f_mean\n",
    "#         pred = np.mean([model(x_tt, training = False).numpy() for model in models],axis=0)\n",
    "#         pred = f(pred)\n",
    "#         pred_df.action = np.where(pred >= th, 1, 0).astype(int)\n",
    "#     else:\n",
    "#         pred_df.action = 0\n",
    "#     env.predict(pred_df)"
   ]
  },
  {
   "cell_type": "markdown",
   "metadata": {},
   "source": [
    "### Reference\n",
    "[Imputing-missing-values](https://www.kaggle.com/louise2001/imputing-missing-values)"
   ]
  },
  {
   "cell_type": "code",
   "execution_count": null,
   "metadata": {},
   "outputs": [],
   "source": []
  }
 ],
 "metadata": {
  "kernelspec": {
   "display_name": "Python 3",
   "language": "python",
   "name": "python3"
  },
  "language_info": {
   "codemirror_mode": {
    "name": "ipython",
    "version": 3
   },
   "file_extension": ".py",
   "mimetype": "text/x-python",
   "name": "python",
   "nbconvert_exporter": "python",
   "pygments_lexer": "ipython3",
   "version": "3.8.5"
  }
 },
 "nbformat": 4,
 "nbformat_minor": 4
}
